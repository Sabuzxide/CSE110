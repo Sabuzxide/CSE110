{
 "cells": [
  {
   "cell_type": "code",
   "execution_count": 1,
   "metadata": {},
   "outputs": [
    {
     "name": "stdout",
     "output_type": "stream",
     "text": [
      "give a input :dic\n",
      "{'d': [0], 'i': [1], 'c': [2]}\n"
     ]
    }
   ],
   "source": [
    "imp=input(\"give a input :\")\n",
    "dic={}\n",
    "for z in imp:\n",
    "    s_l=[\" \"]\n",
    "    l=[]\n",
    "    if z not in s_l:\n",
    "        for j in range(len(imp)):\n",
    "            if imp[j]==z:\n",
    "                l.append(j)\n",
    "    s_l.append(z)\n",
    "    dic[z]=l\n",
    "print(dic)"
   ]
  },
  {
   "cell_type": "code",
   "execution_count": null,
   "metadata": {},
   "outputs": [],
   "source": []
  }
 ],
 "metadata": {
  "kernelspec": {
   "display_name": "Python 3",
   "language": "python",
   "name": "python3"
  },
  "language_info": {
   "codemirror_mode": {
    "name": "ipython",
    "version": 3
   },
   "file_extension": ".py",
   "mimetype": "text/x-python",
   "name": "python",
   "nbconvert_exporter": "python",
   "pygments_lexer": "ipython3",
   "version": "3.8.5"
  }
 },
 "nbformat": 4,
 "nbformat_minor": 4
}
