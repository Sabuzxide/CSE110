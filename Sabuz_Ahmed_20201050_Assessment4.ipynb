{
 "cells": [
  {
   "cell_type": "code",
   "execution_count": 6,
   "metadata": {},
   "outputs": [],
   "source": []
  },
  {
   "cell_type": "code",
   "execution_count": 1,
   "metadata": {},
   "outputs": [
    {
     "name": "stdout",
     "output_type": "stream",
     "text": [
      "dh\n",
      "{'d': 100, 'h': 104}\n"
     ]
    }
   ],
   "source": [
    "def build_dict(string,index):\n",
    "    removed_char_dict = {}\n",
    "    removed_chars = ''\n",
    "    for letter in string:\n",
    "        if(string.index(letter) % index == 0 and string.index(letter) != index and string.index(letter) != 0):\n",
    "            removed_chars += letter\n",
    "            removed_char_dict[letter] = ord(letter)\n",
    "    print(removed_chars)\n",
    "    return(removed_char_dict)\n",
    "\n",
    "print(build_dict(\"Bangladesh\", 3))\n",
    "\n"
   ]
  },
  {
   "cell_type": "code",
   "execution_count": null,
   "metadata": {},
   "outputs": [],
   "source": [
    "user_imp=input(\"Enter an input :\")\n",
    "dict={}\n",
    "for z in user_imp:\n",
    "    us_li=[\" \"]\n",
    "    lis=[]\n",
    "    if (z not in us_li):\n",
    "        for s in range(len(user_imp)):\n",
    "            if (user_imp[s]==z):\n",
    "                lis.append(s)\n",
    "    us_li.append(z)\n",
    "    dict[z]=lis\n",
    "print(dict)\n"
   ]
  },
  {
   "cell_type": "code",
   "execution_count": null,
   "metadata": {},
   "outputs": [],
   "source": []
  }
 ],
 "metadata": {
  "kernelspec": {
   "display_name": "Python 3",
   "language": "python",
   "name": "python3"
  },
  "language_info": {
   "codemirror_mode": {
    "name": "ipython",
    "version": 3
   },
   "file_extension": ".py",
   "mimetype": "text/x-python",
   "name": "python",
   "nbconvert_exporter": "python",
   "pygments_lexer": "ipython3",
   "version": "3.8.5"
  }
 },
 "nbformat": 4,
 "nbformat_minor": 4
}
